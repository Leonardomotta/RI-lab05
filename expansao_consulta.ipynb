{
 "cells": [
  {
   "cell_type": "code",
   "execution_count": 64,
   "metadata": {
    "colab": {
     "base_uri": "https://localhost:8080/",
     "height": 51
    },
    "colab_type": "code",
    "id": "XuY1pp7Qp-tE",
    "outputId": "1c1e74a7-0e65-4120-be8c-a68a8a9b90a6"
   },
   "outputs": [
    {
     "name": "stderr",
     "output_type": "stream",
     "text": [
      "[nltk_data] Downloading package stopwords to\n",
      "[nltk_data]     C:\\Users\\Leonardo\\AppData\\Roaming\\nltk_data...\n",
      "[nltk_data]   Package stopwords is already up-to-date!\n"
     ]
    }
   ],
   "source": [
    "import pandas as pd\n",
    "import numpy as np\n",
    "import nltk\n",
    "import re\n",
    "import collections\n",
    "import heapq\n",
    "import time\n",
    "import bisect\n",
    "import random\n",
    "from nltk.tokenize import RegexpTokenizer\n",
    "\n",
    "nltk.download('stopwords')\n",
    "result = pd.read_csv('https://raw.githubusercontent.com/Leonardomotta/Lei_de_zipf/master/results.csv') \n",
    "                                            "
   ]
  },
  {
   "cell_type": "markdown",
   "metadata": {
    "colab_type": "text",
    "id": "Rzc_3huvEhV3"
   },
   "source": [
    "ranqueamento das palavras retiradas do site  https://www.gazetadopovo.com.br/ gerando um dicionario."
   ]
  },
  {
   "cell_type": "code",
   "execution_count": 65,
   "metadata": {
    "colab": {},
    "colab_type": "code",
    "id": "MOSw37nUKtCI"
   },
   "outputs": [],
   "source": [
    "tknz = RegexpTokenizer(r'([A-Za-zÁáÉéÍíÓóÚúÃãÕõÇçÂâÊê]{3,27})')\n",
    "stopwords = nltk.corpus.stopwords.words('portuguese') \n",
    "indexes = {}\n",
    "n = 0\n",
    "\n",
    "for text in result.texto:\n",
    "  words = [word for word in tknz.tokenize(str(text).lower())\n",
    "           if not bool(re.search(r'\\d', word))\n",
    "           and word not in stopwords and len(word) >= 3]  \n",
    "  n += 1\n",
    "  for t in words:\n",
    "    if t not in indexes.keys():\n",
    "      indexes[t] = []\n",
    "    indexes[t].append(n)\n",
    "    \n",
    "for elem in indexes.items():\n",
    "  d = dict(collections.Counter(elem[1]))\n",
    "  indexes[elem[0]] = list(d.items())"
   ]
  },
  {
   "cell_type": "markdown",
   "metadata": {
    "colab_type": "text",
    "id": "y3YVhyLTugJM"
   },
   "source": [
    "### 1. Calcule as top-10 palavras mais associadas a cada uma dessas 5 palavras de acordo com as 4 métricas que vimos na aula. Você deve produzir uma tabela similar à tabela 6.3 do capítulo 6 do livro texto (pág. 204). Qual métrica você acha que obteve os melhores resultados? Por que?"
   ]
  },
  {
   "cell_type": "code",
   "execution_count": 66,
   "metadata": {
    "colab": {},
    "colab_type": "code",
    "id": "V_MpIn1pEjEX"
   },
   "outputs": [],
   "source": [
    "queries = [\"bolsonaro\", \"educação\", \"ministério\", \"brasil\", \"economia\"]\n",
    "\n",
    "def n_docs_word(word, ranking):\n",
    "  return len(ranking[word])\n",
    "\n",
    "def n_docs_both(a, b, ranking):\n",
    "  docs_a = [doc for doc,score in ranking[a]]\n",
    "  docs_b = [doc for doc,score in ranking[b]]\n",
    "  n = 0\n",
    "  \n",
    "  for doc in docs_a:\n",
    "    if doc in docs_b:\n",
    "      n += 1\n",
    "      \n",
    "  return n"
   ]
  },
  {
   "cell_type": "code",
   "execution_count": 67,
   "metadata": {
    "colab": {},
    "colab_type": "code",
    "id": "TW7-5fxy53am"
   },
   "outputs": [],
   "source": [
    "def calc_mim(a, b, ranking):\n",
    "  n_a = n_docs_word(a, ranking)\n",
    "  n_b = n_docs_word(b, ranking)\n",
    "  n_ab = n_docs_both(a, b, ranking)\n",
    "  quo = (n_a * n_b)\n",
    "  mim = n_ab / quo if quo != 0 else 0\n",
    "  return (mim,b)\n",
    "  \n",
    "def calc_emim(a, b, ranking, n):\n",
    "  n_a = n_docs_word(a, ranking)\n",
    "  n_b = n_docs_word(b, ranking)\n",
    "  n_ab = n_docs_both(a, b, ranking)\n",
    "  quo = (n_a * n_b)\n",
    "  exp = n * (n_ab / quo) if quo != 0 else 0\n",
    "  emim = n_ab * np.log10(exp) if exp != 0 else 0\n",
    "  return (emim, b)\n",
    "  \n",
    "def calc_x(a, b, ranking, n):\n",
    "  n_a = n_docs_word(a, ranking)\n",
    "  n_b = n_docs_word(b, ranking)\n",
    "  n_ab = n_docs_both(a, b, ranking)\n",
    "  quo = (n_a * n_b)\n",
    "  x = (n_ab - (1 / n) * n_a * n_b) ** 2 / quo if quo != 0 else 0\n",
    "  return (x,b)\n",
    "  \n",
    "def calc_dice(a, b, ranking):\n",
    "  n_a = n_docs_word(a, ranking)\n",
    "  n_b = n_docs_word(b, ranking)\n",
    "  n_ab = n_docs_both(a, b, ranking)\n",
    "  dice = n_ab / (n_a + n_b)\n",
    "  return (dice,b)"
   ]
  },
  {
   "cell_type": "code",
   "execution_count": 68,
   "metadata": {
    "colab": {},
    "colab_type": "code",
    "id": "zbY8hBJBujQN"
   },
   "outputs": [],
   "source": [
    "def create_metrics_table(query, ranking, n):\n",
    "  top_10_table = pd.DataFrame()\n",
    "  MIM = []\n",
    "  EMIM = []\n",
    "  X = []\n",
    "  Dice = []\n",
    "  \n",
    "  for word in ranking:\n",
    "    if word != query:\n",
    "      bisect.insort(MIM, calc_mim(query, word, ranking))\n",
    "      bisect.insort(EMIM,calc_emim(query, word, ranking, n))\n",
    "      bisect.insort(X,calc_x(query, word, ranking, n))\n",
    "      bisect.insort(Dice,calc_dice(query, word, ranking))\n",
    "\n",
    "  MIM.reverse()\n",
    "  EMIM.reverse()\n",
    "  X.reverse()\n",
    "  Dice.reverse()\n",
    "  \n",
    "  top_10_table['MIM'] = [word[1] for word in MIM[:10]]\n",
    "  top_10_table['EMIM'] = [word[1] for word in EMIM[:10]]\n",
    "  top_10_table['X²'] = [word[1] for word in X[:10]]\n",
    "  top_10_table['Dice'] = [word[1] for word in Dice[:10]]\n",
    "  \n",
    "  top_10_table.index += 1\n",
    "  \n",
    "  return top_10_table"
   ]
  },
  {
   "cell_type": "code",
   "execution_count": 69,
   "metadata": {
    "colab": {},
    "colab_type": "code",
    "id": "axOJ34jiBL0A"
   },
   "outputs": [],
   "source": [
    "n = result.texto.count()\n",
    "table_1 = create_metrics_table(queries[0], indexes, n)\n",
    "table_2 = create_metrics_table(queries[1], indexes, n)\n",
    "table_3 = create_metrics_table(queries[2], indexes, n)\n",
    "table_4 = create_metrics_table(queries[3], indexes, n)\n",
    "table_5 = create_metrics_table(queries[4], indexes, n)"
   ]
  },
  {
   "cell_type": "markdown",
   "metadata": {
    "colab_type": "text",
    "id": "ywIVJjE7Bufv"
   },
   "source": [
    "1.1 Top-10 palavras associadas a 'Bolsonaro' "
   ]
  },
  {
   "cell_type": "code",
   "execution_count": 70,
   "metadata": {
    "colab": {
     "base_uri": "https://localhost:8080/",
     "height": 359
    },
    "colab_type": "code",
    "id": "S5idEpXTBWs3",
    "outputId": "b8b841e3-2831-407a-de56-72f9604054ae"
   },
   "outputs": [
    {
     "data": {
      "text/html": [
       "<div>\n",
       "<style scoped>\n",
       "    .dataframe tbody tr th:only-of-type {\n",
       "        vertical-align: middle;\n",
       "    }\n",
       "\n",
       "    .dataframe tbody tr th {\n",
       "        vertical-align: top;\n",
       "    }\n",
       "\n",
       "    .dataframe thead th {\n",
       "        text-align: right;\n",
       "    }\n",
       "</style>\n",
       "<table border=\"1\" class=\"dataframe\">\n",
       "  <thead>\n",
       "    <tr style=\"text-align: right;\">\n",
       "      <th></th>\n",
       "      <th>MIM</th>\n",
       "      <th>EMIM</th>\n",
       "      <th>X²</th>\n",
       "      <th>Dice</th>\n",
       "    </tr>\n",
       "  </thead>\n",
       "  <tbody>\n",
       "    <tr>\n",
       "      <th>1</th>\n",
       "      <td>ótimo</td>\n",
       "      <td>jair</td>\n",
       "      <td>nan</td>\n",
       "      <td>jair</td>\n",
       "    </tr>\n",
       "    <tr>\n",
       "      <th>2</th>\n",
       "      <td>ótima</td>\n",
       "      <td>psl</td>\n",
       "      <td>jair</td>\n",
       "      <td>presidente</td>\n",
       "    </tr>\n",
       "    <tr>\n",
       "      <th>3</th>\n",
       "      <td>órfão</td>\n",
       "      <td>presidente</td>\n",
       "      <td>psl</td>\n",
       "      <td>governo</td>\n",
       "    </tr>\n",
       "    <tr>\n",
       "      <th>4</th>\n",
       "      <td>óbvio</td>\n",
       "      <td>congresso</td>\n",
       "      <td>congresso</td>\n",
       "      <td>psl</td>\n",
       "    </tr>\n",
       "    <tr>\n",
       "      <th>5</th>\n",
       "      <td>ético</td>\n",
       "      <td>ministro</td>\n",
       "      <td>deputados</td>\n",
       "      <td>ministro</td>\n",
       "    </tr>\n",
       "    <tr>\n",
       "      <th>6</th>\n",
       "      <td>árduo</td>\n",
       "      <td>governo</td>\n",
       "      <td>câmara</td>\n",
       "      <td>disse</td>\n",
       "    </tr>\n",
       "    <tr>\n",
       "      <th>7</th>\n",
       "      <td>árabe</td>\n",
       "      <td>câmara</td>\n",
       "      <td>proposta</td>\n",
       "      <td>afirmou</td>\n",
       "    </tr>\n",
       "    <tr>\n",
       "      <th>8</th>\n",
       "      <td>ágil</td>\n",
       "      <td>disse</td>\n",
       "      <td>planalto</td>\n",
       "      <td>congresso</td>\n",
       "    </tr>\n",
       "    <tr>\n",
       "      <th>9</th>\n",
       "      <td>áfrica</td>\n",
       "      <td>afirmou</td>\n",
       "      <td>previdência</td>\n",
       "      <td>câmara</td>\n",
       "    </tr>\n",
       "    <tr>\n",
       "      <th>10</th>\n",
       "      <td>zimbábue</td>\n",
       "      <td>previdência</td>\n",
       "      <td>ministro</td>\n",
       "      <td>sobre</td>\n",
       "    </tr>\n",
       "  </tbody>\n",
       "</table>\n",
       "</div>"
      ],
      "text/plain": [
       "         MIM         EMIM           X²        Dice\n",
       "1      ótimo         jair          nan        jair\n",
       "2      ótima          psl         jair  presidente\n",
       "3      órfão   presidente          psl     governo\n",
       "4      óbvio    congresso    congresso         psl\n",
       "5      ético     ministro    deputados    ministro\n",
       "6      árduo      governo       câmara       disse\n",
       "7      árabe       câmara     proposta     afirmou\n",
       "8       ágil        disse     planalto   congresso\n",
       "9     áfrica      afirmou  previdência      câmara\n",
       "10  zimbábue  previdência     ministro       sobre"
      ]
     },
     "execution_count": 70,
     "metadata": {},
     "output_type": "execute_result"
    }
   ],
   "source": [
    "table_1"
   ]
  },
  {
   "cell_type": "markdown",
   "metadata": {
    "colab_type": "text",
    "id": "McpHTjVVB5xA"
   },
   "source": [
    "#### 1.2 Top-10 palavras associadas a 'Educação'"
   ]
  },
  {
   "cell_type": "code",
   "execution_count": 71,
   "metadata": {
    "colab": {
     "base_uri": "https://localhost:8080/",
     "height": 0
    },
    "colab_type": "code",
    "id": "bArFMpg6BYnC",
    "outputId": "dc0ca74d-0ca9-4da2-9257-d8e4c200af71"
   },
   "outputs": [
    {
     "data": {
      "text/html": [
       "<div>\n",
       "<style scoped>\n",
       "    .dataframe tbody tr th:only-of-type {\n",
       "        vertical-align: middle;\n",
       "    }\n",
       "\n",
       "    .dataframe tbody tr th {\n",
       "        vertical-align: top;\n",
       "    }\n",
       "\n",
       "    .dataframe thead th {\n",
       "        text-align: right;\n",
       "    }\n",
       "</style>\n",
       "<table border=\"1\" class=\"dataframe\">\n",
       "  <thead>\n",
       "    <tr style=\"text-align: right;\">\n",
       "      <th></th>\n",
       "      <th>MIM</th>\n",
       "      <th>EMIM</th>\n",
       "      <th>X²</th>\n",
       "      <th>Dice</th>\n",
       "    </tr>\n",
       "  </thead>\n",
       "  <tbody>\n",
       "    <tr>\n",
       "      <th>1</th>\n",
       "      <td>ético</td>\n",
       "      <td>mec</td>\n",
       "      <td>mec</td>\n",
       "      <td>mec</td>\n",
       "    </tr>\n",
       "    <tr>\n",
       "      <th>2</th>\n",
       "      <td>zimmermann</td>\n",
       "      <td>vélez</td>\n",
       "      <td>vélez</td>\n",
       "      <td>vélez</td>\n",
       "    </tr>\n",
       "    <tr>\n",
       "      <th>3</th>\n",
       "      <td>zimbábue</td>\n",
       "      <td>indicou</td>\n",
       "      <td>indicou</td>\n",
       "      <td>indicou</td>\n",
       "    </tr>\n",
       "    <tr>\n",
       "      <th>4</th>\n",
       "      <td>zanini</td>\n",
       "      <td>reclamar</td>\n",
       "      <td>reclamar</td>\n",
       "      <td>ensino</td>\n",
       "    </tr>\n",
       "    <tr>\n",
       "      <th>5</th>\n",
       "      <td>xixi</td>\n",
       "      <td>criticado</td>\n",
       "      <td>criticado</td>\n",
       "      <td>reclamar</td>\n",
       "    </tr>\n",
       "    <tr>\n",
       "      <th>6</th>\n",
       "      <td>william</td>\n",
       "      <td>ensino</td>\n",
       "      <td>nan</td>\n",
       "      <td>criticado</td>\n",
       "    </tr>\n",
       "    <tr>\n",
       "      <th>7</th>\n",
       "      <td>walter</td>\n",
       "      <td>vou</td>\n",
       "      <td>rodríguez</td>\n",
       "      <td>irá</td>\n",
       "    </tr>\n",
       "    <tr>\n",
       "      <th>8</th>\n",
       "      <td>wajngarten</td>\n",
       "      <td>irá</td>\n",
       "      <td>colombiano</td>\n",
       "      <td>ministério</td>\n",
       "    </tr>\n",
       "    <tr>\n",
       "      <th>9</th>\n",
       "      <td>waack</td>\n",
       "      <td>escolas</td>\n",
       "      <td>vou</td>\n",
       "      <td>meses</td>\n",
       "    </tr>\n",
       "    <tr>\n",
       "      <th>10</th>\n",
       "      <td>vélez</td>\n",
       "      <td>rodríguez</td>\n",
       "      <td>ensino</td>\n",
       "      <td>vou</td>\n",
       "    </tr>\n",
       "  </tbody>\n",
       "</table>\n",
       "</div>"
      ],
      "text/plain": [
       "           MIM       EMIM          X²        Dice\n",
       "1        ético        mec         mec         mec\n",
       "2   zimmermann      vélez       vélez       vélez\n",
       "3     zimbábue    indicou     indicou     indicou\n",
       "4       zanini   reclamar    reclamar      ensino\n",
       "5         xixi  criticado   criticado    reclamar\n",
       "6      william     ensino         nan   criticado\n",
       "7       walter        vou   rodríguez         irá\n",
       "8   wajngarten        irá  colombiano  ministério\n",
       "9        waack    escolas         vou       meses\n",
       "10       vélez  rodríguez      ensino         vou"
      ]
     },
     "execution_count": 71,
     "metadata": {},
     "output_type": "execute_result"
    }
   ],
   "source": [
    "table_2"
   ]
  },
  {
   "cell_type": "markdown",
   "metadata": {
    "colab_type": "text",
    "id": "09vbHGYoCGMd"
   },
   "source": [
    "#### 1.3 Top-10 palavras associadas a 'Ministério'"
   ]
  },
  {
   "cell_type": "code",
   "execution_count": 72,
   "metadata": {
    "colab": {
     "base_uri": "https://localhost:8080/",
     "height": 0
    },
    "colab_type": "code",
    "id": "NgPb85EqBaeT",
    "outputId": "076d5c6d-84ee-4aa5-9d8f-30be7f510b6c"
   },
   "outputs": [
    {
     "data": {
      "text/html": [
       "<div>\n",
       "<style scoped>\n",
       "    .dataframe tbody tr th:only-of-type {\n",
       "        vertical-align: middle;\n",
       "    }\n",
       "\n",
       "    .dataframe tbody tr th {\n",
       "        vertical-align: top;\n",
       "    }\n",
       "\n",
       "    .dataframe thead th {\n",
       "        text-align: right;\n",
       "    }\n",
       "</style>\n",
       "<table border=\"1\" class=\"dataframe\">\n",
       "  <thead>\n",
       "    <tr style=\"text-align: right;\">\n",
       "      <th></th>\n",
       "      <th>MIM</th>\n",
       "      <th>EMIM</th>\n",
       "      <th>X²</th>\n",
       "      <th>Dice</th>\n",
       "    </tr>\n",
       "  </thead>\n",
       "  <tbody>\n",
       "    <tr>\n",
       "      <th>1</th>\n",
       "      <td>ético</td>\n",
       "      <td>público</td>\n",
       "      <td>nan</td>\n",
       "      <td>ministro</td>\n",
       "    </tr>\n",
       "    <tr>\n",
       "      <th>2</th>\n",
       "      <td>éticas</td>\n",
       "      <td>federal</td>\n",
       "      <td>pedir</td>\n",
       "      <td>público</td>\n",
       "    </tr>\n",
       "    <tr>\n",
       "      <th>3</th>\n",
       "      <td>árduo</td>\n",
       "      <td>ministro</td>\n",
       "      <td>negou</td>\n",
       "      <td>federal</td>\n",
       "    </tr>\n",
       "    <tr>\n",
       "      <th>4</th>\n",
       "      <td>xixi</td>\n",
       "      <td>pedir</td>\n",
       "      <td>mec</td>\n",
       "      <td>fim</td>\n",
       "    </tr>\n",
       "    <tr>\n",
       "      <th>5</th>\n",
       "      <td>walter</td>\n",
       "      <td>fim</td>\n",
       "      <td>jornalistas</td>\n",
       "      <td>sido</td>\n",
       "    </tr>\n",
       "    <tr>\n",
       "      <th>6</th>\n",
       "      <td>waldir</td>\n",
       "      <td>jornalistas</td>\n",
       "      <td>viagem</td>\n",
       "      <td>justiça</td>\n",
       "    </tr>\n",
       "    <tr>\n",
       "      <th>7</th>\n",
       "      <td>wajngarten</td>\n",
       "      <td>mec</td>\n",
       "      <td>reunir</td>\n",
       "      <td>bolsonaro</td>\n",
       "    </tr>\n",
       "    <tr>\n",
       "      <th>8</th>\n",
       "      <td>vírus</td>\n",
       "      <td>tribunal</td>\n",
       "      <td>procuradoria</td>\n",
       "      <td>tribunal</td>\n",
       "    </tr>\n",
       "    <tr>\n",
       "      <th>9</th>\n",
       "      <td>vizinhas</td>\n",
       "      <td>negou</td>\n",
       "      <td>criticado</td>\n",
       "      <td>ainda</td>\n",
       "    </tr>\n",
       "    <tr>\n",
       "      <th>10</th>\n",
       "      <td>vivo</td>\n",
       "      <td>justiça</td>\n",
       "      <td>criminal</td>\n",
       "      <td>feira</td>\n",
       "    </tr>\n",
       "  </tbody>\n",
       "</table>\n",
       "</div>"
      ],
      "text/plain": [
       "           MIM         EMIM            X²       Dice\n",
       "1        ético      público           nan   ministro\n",
       "2       éticas      federal         pedir    público\n",
       "3        árduo     ministro         negou    federal\n",
       "4         xixi        pedir           mec        fim\n",
       "5       walter          fim   jornalistas       sido\n",
       "6       waldir  jornalistas        viagem    justiça\n",
       "7   wajngarten          mec        reunir  bolsonaro\n",
       "8        vírus     tribunal  procuradoria   tribunal\n",
       "9     vizinhas        negou     criticado      ainda\n",
       "10        vivo      justiça      criminal      feira"
      ]
     },
     "execution_count": 72,
     "metadata": {},
     "output_type": "execute_result"
    }
   ],
   "source": [
    "table_3"
   ]
  },
  {
   "cell_type": "markdown",
   "metadata": {
    "colab_type": "text",
    "id": "vFlUTQuPCL1A"
   },
   "source": [
    "#### 1.4 Top-10 palavras associadas a 'Brasil'"
   ]
  },
  {
   "cell_type": "code",
   "execution_count": 73,
   "metadata": {
    "colab": {
     "base_uri": "https://localhost:8080/",
     "height": 0
    },
    "colab_type": "code",
    "id": "qfdW2uUCBbKl",
    "outputId": "f1695ca9-43f7-44e6-d312-e396b52cf3c6"
   },
   "outputs": [
    {
     "data": {
      "text/html": [
       "<div>\n",
       "<style scoped>\n",
       "    .dataframe tbody tr th:only-of-type {\n",
       "        vertical-align: middle;\n",
       "    }\n",
       "\n",
       "    .dataframe tbody tr th {\n",
       "        vertical-align: top;\n",
       "    }\n",
       "\n",
       "    .dataframe thead th {\n",
       "        text-align: right;\n",
       "    }\n",
       "</style>\n",
       "<table border=\"1\" class=\"dataframe\">\n",
       "  <thead>\n",
       "    <tr style=\"text-align: right;\">\n",
       "      <th></th>\n",
       "      <th>MIM</th>\n",
       "      <th>EMIM</th>\n",
       "      <th>X²</th>\n",
       "      <th>Dice</th>\n",
       "    </tr>\n",
       "  </thead>\n",
       "  <tbody>\n",
       "    <tr>\n",
       "      <th>1</th>\n",
       "      <td>íngremes</td>\n",
       "      <td>estados</td>\n",
       "      <td>nan</td>\n",
       "      <td>estados</td>\n",
       "    </tr>\n",
       "    <tr>\n",
       "      <th>2</th>\n",
       "      <td>ínfima</td>\n",
       "      <td>unidos</td>\n",
       "      <td>estados</td>\n",
       "      <td>país</td>\n",
       "    </tr>\n",
       "    <tr>\n",
       "      <th>3</th>\n",
       "      <td>ético</td>\n",
       "      <td>brasileira</td>\n",
       "      <td>brasileira</td>\n",
       "      <td>governo</td>\n",
       "    </tr>\n",
       "    <tr>\n",
       "      <th>4</th>\n",
       "      <td>ânimo</td>\n",
       "      <td>país</td>\n",
       "      <td>unidos</td>\n",
       "      <td>presidente</td>\n",
       "    </tr>\n",
       "    <tr>\n",
       "      <th>5</th>\n",
       "      <td>ásia</td>\n",
       "      <td>outros</td>\n",
       "      <td>mourão</td>\n",
       "      <td>outros</td>\n",
       "    </tr>\n",
       "    <tr>\n",
       "      <th>6</th>\n",
       "      <td>árabe</td>\n",
       "      <td>nacional</td>\n",
       "      <td>hamilton</td>\n",
       "      <td>parte</td>\n",
       "    </tr>\n",
       "    <tr>\n",
       "      <th>7</th>\n",
       "      <td>ágil</td>\n",
       "      <td>nível</td>\n",
       "      <td>mudanças</td>\n",
       "      <td>ser</td>\n",
       "    </tr>\n",
       "    <tr>\n",
       "      <th>8</th>\n",
       "      <td>zulia</td>\n",
       "      <td>algo</td>\n",
       "      <td>distribuição</td>\n",
       "      <td>sobre</td>\n",
       "    </tr>\n",
       "    <tr>\n",
       "      <th>9</th>\n",
       "      <td>zimmermann</td>\n",
       "      <td>parte</td>\n",
       "      <td>algo</td>\n",
       "      <td>ainda</td>\n",
       "    </tr>\n",
       "    <tr>\n",
       "      <th>10</th>\n",
       "      <td>zarlenga</td>\n",
       "      <td>países</td>\n",
       "      <td>ministros</td>\n",
       "      <td>ter</td>\n",
       "    </tr>\n",
       "  </tbody>\n",
       "</table>\n",
       "</div>"
      ],
      "text/plain": [
       "           MIM        EMIM            X²        Dice\n",
       "1     íngremes     estados           nan     estados\n",
       "2       ínfima      unidos       estados        país\n",
       "3        ético  brasileira    brasileira     governo\n",
       "4        ânimo        país        unidos  presidente\n",
       "5         ásia      outros        mourão      outros\n",
       "6        árabe    nacional      hamilton       parte\n",
       "7         ágil       nível      mudanças         ser\n",
       "8        zulia        algo  distribuição       sobre\n",
       "9   zimmermann       parte          algo       ainda\n",
       "10    zarlenga      países     ministros         ter"
      ]
     },
     "execution_count": 73,
     "metadata": {},
     "output_type": "execute_result"
    }
   ],
   "source": [
    "table_4"
   ]
  },
  {
   "cell_type": "markdown",
   "metadata": {
    "colab_type": "text",
    "id": "80B4zI8HCPOG"
   },
   "source": [
    "#### 1.5 Top-10 palavras associadas a 'Economia'"
   ]
  },
  {
   "cell_type": "code",
   "execution_count": 74,
   "metadata": {
    "colab": {
     "base_uri": "https://localhost:8080/",
     "height": 0
    },
    "colab_type": "code",
    "id": "0zLCM44RBb9z",
    "outputId": "dd151a39-003a-420e-ffcc-7eeedfe57b7b"
   },
   "outputs": [
    {
     "data": {
      "text/html": [
       "<div>\n",
       "<style scoped>\n",
       "    .dataframe tbody tr th:only-of-type {\n",
       "        vertical-align: middle;\n",
       "    }\n",
       "\n",
       "    .dataframe tbody tr th {\n",
       "        vertical-align: top;\n",
       "    }\n",
       "\n",
       "    .dataframe thead th {\n",
       "        text-align: right;\n",
       "    }\n",
       "</style>\n",
       "<table border=\"1\" class=\"dataframe\">\n",
       "  <thead>\n",
       "    <tr style=\"text-align: right;\">\n",
       "      <th></th>\n",
       "      <th>MIM</th>\n",
       "      <th>EMIM</th>\n",
       "      <th>X²</th>\n",
       "      <th>Dice</th>\n",
       "    </tr>\n",
       "  </thead>\n",
       "  <tbody>\n",
       "    <tr>\n",
       "      <th>1</th>\n",
       "      <td>úrzua</td>\n",
       "      <td>guedes</td>\n",
       "      <td>nan</td>\n",
       "      <td>guedes</td>\n",
       "    </tr>\n",
       "    <tr>\n",
       "      <th>2</th>\n",
       "      <td>ético</td>\n",
       "      <td>ministro</td>\n",
       "      <td>guedes</td>\n",
       "      <td>ministro</td>\n",
       "    </tr>\n",
       "    <tr>\n",
       "      <th>3</th>\n",
       "      <td>álvarez</td>\n",
       "      <td>país</td>\n",
       "      <td>vice</td>\n",
       "      <td>país</td>\n",
       "    </tr>\n",
       "    <tr>\n",
       "      <th>4</th>\n",
       "      <td>zimbábue</td>\n",
       "      <td>previdência</td>\n",
       "      <td>mal</td>\n",
       "      <td>bolsonaro</td>\n",
       "    </tr>\n",
       "    <tr>\n",
       "      <th>5</th>\n",
       "      <td>zarlenga</td>\n",
       "      <td>críticas</td>\n",
       "      <td>representantes</td>\n",
       "      <td>presidente</td>\n",
       "    </tr>\n",
       "    <tr>\n",
       "      <th>6</th>\n",
       "      <td>yuool</td>\n",
       "      <td>vice</td>\n",
       "      <td>críticas</td>\n",
       "      <td>previdência</td>\n",
       "    </tr>\n",
       "    <tr>\n",
       "      <th>7</th>\n",
       "      <td>xixi</td>\n",
       "      <td>bolsonaro</td>\n",
       "      <td>vivem</td>\n",
       "      <td>críticas</td>\n",
       "    </tr>\n",
       "    <tr>\n",
       "      <th>8</th>\n",
       "      <td>wyllys</td>\n",
       "      <td>presidente</td>\n",
       "      <td>tributária</td>\n",
       "      <td>reforma</td>\n",
       "    </tr>\n",
       "    <tr>\n",
       "      <th>9</th>\n",
       "      <td>watch</td>\n",
       "      <td>proposta</td>\n",
       "      <td>luciano</td>\n",
       "      <td>vice</td>\n",
       "    </tr>\n",
       "    <tr>\n",
       "      <th>10</th>\n",
       "      <td>washignton</td>\n",
       "      <td>reforma</td>\n",
       "      <td>imposto</td>\n",
       "      <td>proposta</td>\n",
       "    </tr>\n",
       "  </tbody>\n",
       "</table>\n",
       "</div>"
      ],
      "text/plain": [
       "           MIM         EMIM              X²         Dice\n",
       "1        úrzua       guedes             nan       guedes\n",
       "2        ético     ministro          guedes     ministro\n",
       "3      álvarez         país            vice         país\n",
       "4     zimbábue  previdência             mal    bolsonaro\n",
       "5     zarlenga     críticas  representantes   presidente\n",
       "6        yuool         vice        críticas  previdência\n",
       "7         xixi    bolsonaro           vivem     críticas\n",
       "8       wyllys   presidente      tributária      reforma\n",
       "9        watch     proposta         luciano         vice\n",
       "10  washignton      reforma         imposto     proposta"
      ]
     },
     "execution_count": 74,
     "metadata": {},
     "output_type": "execute_result"
    }
   ],
   "source": [
    "table_5"
   ]
  },
  {
   "cell_type": "markdown",
   "metadata": {
    "colab_type": "text",
    "id": "bpLrbmJpKajt"
   },
   "source": [
    "\n",
    "as metricas EMIM, X² e dice possuem resultados bastante similares e satisfatorios , o MIM por sua vez tem resultados bem descrepantes ,  isso é causado porque os valores retornado pela métrica é exatamente o mesmo para uma série de palavras e por isso o algoritmo de montagem das tabelas não consegue identificar com precisão qual as palavras que realmente estão próximas da palavra consultada , acredito que o Dice deva ser a que mais se destaca , por resultados precisos e calculo simples.\n"
   ]
  },
  {
   "cell_type": "markdown",
   "metadata": {
    "colab_type": "text",
    "id": "4U_7s9L6ujmv"
   },
   "source": [
    "### 2. De acordo com a métrica que deu os melhores resultados na sua opinião, execute agora cada consulta (usando a abordagem documento- ou termo-por-vez)  expandido-a com: os top-3, top-5 e top-10 documentos. O que acontece com a precisão dos resultados em cada caso? Aumenta ou diminui? Justifique bem sua resposta."
   ]
  },
  {
   "cell_type": "markdown",
   "metadata": {
    "colab_type": "text",
    "id": "5iXwmkGQtX9c"
   },
   "source": [
    "#### Algortimo : Termo-por-vez\n"
   ]
  },
  {
   "cell_type": "code",
   "execution_count": 75,
   "metadata": {
    "colab": {},
    "colab_type": "code",
    "id": "jhbTZjZvQKi6"
   },
   "outputs": [],
   "source": [
    "def term_a_time(query, indexes, k):    \n",
    "    a = {} # Accumulator HashTable\n",
    "    query_indexes = [] # Array\n",
    "    rank = [] # HeapQueue, implementation of PriorityQueue\n",
    "    \n",
    "    for word in query.split(\" \"):\n",
    "      if word in indexes.keys():\n",
    "          query_indexes.append(indexes[word])\n",
    "    \n",
    "    for index in query_indexes:\n",
    "      for i in index:\n",
    "          doc = i[0]\n",
    "          if doc not in a.keys():\n",
    "              a[doc] = 0\n",
    "          a[doc] += i[1]\n",
    "    \n",
    "    for (doc, score) in a.items():\n",
    "      heapq.heappush(rank, (score, doc))\n",
    "        \n",
    "    return heapq.nlargest(k, rank)"
   ]
  },
  {
   "cell_type": "code",
   "execution_count": 76,
   "metadata": {
    "colab": {},
    "colab_type": "code",
    "id": "AOMSnkM9QN9a"
   },
   "outputs": [],
   "source": [
    "def top_docs(query, k):\n",
    "  \n",
    "  top_docs = [doc for score,doc in term_a_time(query, indexes, k)]\n",
    "  top_docs_ranking = {} \n",
    "  \n",
    "  for word in indexes:\n",
    "    top_docs_ranking[word] = []\n",
    "    for doc_score in indexes[word]:\n",
    "      if doc_score[0] in top_docs:\n",
    "        top_docs_ranking[word].append(doc_score)\n",
    "        \n",
    "  return top_docs_ranking"
   ]
  },
  {
   "cell_type": "markdown",
   "metadata": {
    "colab_type": "text",
    "id": "f9K9_X-tCNyh"
   },
   "source": [
    "#### Top-3 Documentos"
   ]
  },
  {
   "cell_type": "code",
   "execution_count": 77,
   "metadata": {
    "colab": {},
    "colab_type": "code",
    "id": "nfbtKx6PQll_"
   },
   "outputs": [],
   "source": [
    "k = 3\n",
    "ranking_docs1 = top_docs(queries[0], k)\n",
    "ranking_docs2 = top_docs(queries[1], k)\n",
    "ranking_docs3 = top_docs(queries[2], k)\n",
    "ranking_docs4 = top_docs(queries[3], k)\n",
    "ranking_docs5 = top_docs(queries[4], k)"
   ]
  },
  {
   "cell_type": "code",
   "execution_count": 78,
   "metadata": {
    "colab": {},
    "colab_type": "code",
    "id": "sWsG17xuIPFN"
   },
   "outputs": [],
   "source": [
    "table_top1 = create_metrics_table(queries[0], ranking_docs1, k)\n",
    "table_top2 = create_metrics_table(queries[1], ranking_docs2, k)\n",
    "table_top3 = create_metrics_table(queries[2], ranking_docs3, k)\n",
    "table_top4 = create_metrics_table(queries[3], ranking_docs4, k)\n",
    "table_top5 = create_metrics_table(queries[4], ranking_docs5, k)"
   ]
  },
  {
   "cell_type": "markdown",
   "metadata": {
    "colab_type": "text",
    "id": "EIqPnBmVK0OF"
   },
   "source": [
    "##### Top-10 palavras associadas aos Top-3 Documentos de 'Bolsonaro'"
   ]
  },
  {
   "cell_type": "code",
   "execution_count": 79,
   "metadata": {
    "colab": {
     "base_uri": "https://localhost:8080/",
     "height": 359
    },
    "colab_type": "code",
    "id": "pWPtQCLbJMac",
    "outputId": "0a0d2088-ace2-464f-f0f2-431f6f92dec4"
   },
   "outputs": [
    {
     "data": {
      "text/html": [
       "<div>\n",
       "<style scoped>\n",
       "    .dataframe tbody tr th:only-of-type {\n",
       "        vertical-align: middle;\n",
       "    }\n",
       "\n",
       "    .dataframe tbody tr th {\n",
       "        vertical-align: top;\n",
       "    }\n",
       "\n",
       "    .dataframe thead th {\n",
       "        text-align: right;\n",
       "    }\n",
       "</style>\n",
       "<table border=\"1\" class=\"dataframe\">\n",
       "  <thead>\n",
       "    <tr style=\"text-align: right;\">\n",
       "      <th></th>\n",
       "      <th>Dice before Term A Time</th>\n",
       "      <th>Dice after Term A Time</th>\n",
       "    </tr>\n",
       "  </thead>\n",
       "  <tbody>\n",
       "    <tr>\n",
       "      <th>1</th>\n",
       "      <td>jair</td>\n",
       "      <td>área</td>\n",
       "    </tr>\n",
       "    <tr>\n",
       "      <th>2</th>\n",
       "      <td>presidente</td>\n",
       "      <td>vou</td>\n",
       "    </tr>\n",
       "    <tr>\n",
       "      <th>3</th>\n",
       "      <td>governo</td>\n",
       "      <td>vida</td>\n",
       "    </tr>\n",
       "    <tr>\n",
       "      <th>4</th>\n",
       "      <td>psl</td>\n",
       "      <td>vai</td>\n",
       "    </tr>\n",
       "    <tr>\n",
       "      <th>5</th>\n",
       "      <td>ministro</td>\n",
       "      <td>tudo</td>\n",
       "    </tr>\n",
       "    <tr>\n",
       "      <th>6</th>\n",
       "      <td>disse</td>\n",
       "      <td>tipo</td>\n",
       "    </tr>\n",
       "    <tr>\n",
       "      <th>7</th>\n",
       "      <td>afirmou</td>\n",
       "      <td>ter</td>\n",
       "    </tr>\n",
       "    <tr>\n",
       "      <th>8</th>\n",
       "      <td>congresso</td>\n",
       "      <td>tempo</td>\n",
       "    </tr>\n",
       "    <tr>\n",
       "      <th>9</th>\n",
       "      <td>câmara</td>\n",
       "      <td>sobre</td>\n",
       "    </tr>\n",
       "    <tr>\n",
       "      <th>10</th>\n",
       "      <td>sobre</td>\n",
       "      <td>ser</td>\n",
       "    </tr>\n",
       "  </tbody>\n",
       "</table>\n",
       "</div>"
      ],
      "text/plain": [
       "   Dice before Term A Time Dice after Term A Time\n",
       "1                     jair                   área\n",
       "2               presidente                    vou\n",
       "3                  governo                   vida\n",
       "4                      psl                    vai\n",
       "5                 ministro                   tudo\n",
       "6                    disse                   tipo\n",
       "7                  afirmou                    ter\n",
       "8                congresso                  tempo\n",
       "9                   câmara                  sobre\n",
       "10                   sobre                    ser"
      ]
     },
     "execution_count": 79,
     "metadata": {},
     "output_type": "execute_result"
    }
   ],
   "source": [
    "table_dice = pd.DataFrame()\n",
    "table_dice['Dice before Term A Time'] = table_1['Dice']\n",
    "table_dice['Dice after Term A Time'] = table_top1['Dice']\n",
    "table_dice"
   ]
  },
  {
   "cell_type": "markdown",
   "metadata": {
    "colab_type": "text",
    "id": "GzuhQNJjK8kO"
   },
   "source": [
    "##### Top-10 palavras associadas aos Top-3 Documentos de 'Educação'"
   ]
  },
  {
   "cell_type": "code",
   "execution_count": 80,
   "metadata": {
    "colab": {
     "base_uri": "https://localhost:8080/",
     "height": 359
    },
    "colab_type": "code",
    "id": "LH3mPbOSLPrM",
    "outputId": "3e8f3ac5-98de-458a-d298-40b804c86c81"
   },
   "outputs": [
    {
     "data": {
      "text/html": [
       "<div>\n",
       "<style scoped>\n",
       "    .dataframe tbody tr th:only-of-type {\n",
       "        vertical-align: middle;\n",
       "    }\n",
       "\n",
       "    .dataframe tbody tr th {\n",
       "        vertical-align: top;\n",
       "    }\n",
       "\n",
       "    .dataframe thead th {\n",
       "        text-align: right;\n",
       "    }\n",
       "</style>\n",
       "<table border=\"1\" class=\"dataframe\">\n",
       "  <thead>\n",
       "    <tr style=\"text-align: right;\">\n",
       "      <th></th>\n",
       "      <th>Dice before Term A Time</th>\n",
       "      <th>Dice after Term A Time</th>\n",
       "    </tr>\n",
       "  </thead>\n",
       "  <tbody>\n",
       "    <tr>\n",
       "      <th>1</th>\n",
       "      <td>mec</td>\n",
       "      <td>nacional</td>\n",
       "    </tr>\n",
       "    <tr>\n",
       "      <th>2</th>\n",
       "      <td>vélez</td>\n",
       "      <td>governo</td>\n",
       "    </tr>\n",
       "    <tr>\n",
       "      <th>3</th>\n",
       "      <td>indicou</td>\n",
       "      <td>escola</td>\n",
       "    </tr>\n",
       "    <tr>\n",
       "      <th>4</th>\n",
       "      <td>ensino</td>\n",
       "      <td>ensino</td>\n",
       "    </tr>\n",
       "    <tr>\n",
       "      <th>5</th>\n",
       "      <td>reclamar</td>\n",
       "      <td>durante</td>\n",
       "    </tr>\n",
       "    <tr>\n",
       "      <th>6</th>\n",
       "      <td>criticado</td>\n",
       "      <td>índices</td>\n",
       "    </tr>\n",
       "    <tr>\n",
       "      <th>7</th>\n",
       "      <td>irá</td>\n",
       "      <td>área</td>\n",
       "    </tr>\n",
       "    <tr>\n",
       "      <th>8</th>\n",
       "      <td>ministério</td>\n",
       "      <td>universidades</td>\n",
       "    </tr>\n",
       "    <tr>\n",
       "      <th>9</th>\n",
       "      <td>meses</td>\n",
       "      <td>trabalho</td>\n",
       "    </tr>\n",
       "    <tr>\n",
       "      <th>10</th>\n",
       "      <td>vou</td>\n",
       "      <td>trabalhadores</td>\n",
       "    </tr>\n",
       "  </tbody>\n",
       "</table>\n",
       "</div>"
      ],
      "text/plain": [
       "   Dice before Term A Time Dice after Term A Time\n",
       "1                      mec               nacional\n",
       "2                    vélez                governo\n",
       "3                  indicou                 escola\n",
       "4                   ensino                 ensino\n",
       "5                 reclamar                durante\n",
       "6                criticado                índices\n",
       "7                      irá                   área\n",
       "8               ministério          universidades\n",
       "9                    meses               trabalho\n",
       "10                     vou          trabalhadores"
      ]
     },
     "execution_count": 80,
     "metadata": {},
     "output_type": "execute_result"
    }
   ],
   "source": [
    "table_dice = pd.DataFrame()\n",
    "table_dice['Dice before Term A Time'] = table_2['Dice']\n",
    "table_dice['Dice after Term A Time'] = table_top2['Dice']\n",
    "table_dice"
   ]
  },
  {
   "cell_type": "markdown",
   "metadata": {
    "colab_type": "text",
    "id": "Mw5ATdBDK8-A"
   },
   "source": [
    "##### Top-10 palavras associadas aos Top-3 Documentos de 'Ministério'"
   ]
  },
  {
   "cell_type": "code",
   "execution_count": 81,
   "metadata": {
    "colab": {
     "base_uri": "https://localhost:8080/",
     "height": 359
    },
    "colab_type": "code",
    "id": "cRKqTowzLQue",
    "outputId": "3db92fc5-ebe6-4e11-8ac7-7b65705af68f"
   },
   "outputs": [
    {
     "data": {
      "text/html": [
       "<div>\n",
       "<style scoped>\n",
       "    .dataframe tbody tr th:only-of-type {\n",
       "        vertical-align: middle;\n",
       "    }\n",
       "\n",
       "    .dataframe tbody tr th {\n",
       "        vertical-align: top;\n",
       "    }\n",
       "\n",
       "    .dataframe thead th {\n",
       "        text-align: right;\n",
       "    }\n",
       "</style>\n",
       "<table border=\"1\" class=\"dataframe\">\n",
       "  <thead>\n",
       "    <tr style=\"text-align: right;\">\n",
       "      <th></th>\n",
       "      <th>Dice before Term A Time</th>\n",
       "      <th>Dice after Term A Time</th>\n",
       "    </tr>\n",
       "  </thead>\n",
       "  <tbody>\n",
       "    <tr>\n",
       "      <th>1</th>\n",
       "      <td>ministro</td>\n",
       "      <td>sobre</td>\n",
       "    </tr>\n",
       "    <tr>\n",
       "      <th>2</th>\n",
       "      <td>público</td>\n",
       "      <td>sido</td>\n",
       "    </tr>\n",
       "    <tr>\n",
       "      <th>3</th>\n",
       "      <td>federal</td>\n",
       "      <td>governo</td>\n",
       "    </tr>\n",
       "    <tr>\n",
       "      <th>4</th>\n",
       "      <td>fim</td>\n",
       "      <td>disse</td>\n",
       "    </tr>\n",
       "    <tr>\n",
       "      <th>5</th>\n",
       "      <td>sido</td>\n",
       "      <td>desde</td>\n",
       "    </tr>\n",
       "    <tr>\n",
       "      <th>6</th>\n",
       "      <td>justiça</td>\n",
       "      <td>contra</td>\n",
       "    </tr>\n",
       "    <tr>\n",
       "      <th>7</th>\n",
       "      <td>bolsonaro</td>\n",
       "      <td>vélez</td>\n",
       "    </tr>\n",
       "    <tr>\n",
       "      <th>8</th>\n",
       "      <td>tribunal</td>\n",
       "      <td>vou</td>\n",
       "    </tr>\n",
       "    <tr>\n",
       "      <th>9</th>\n",
       "      <td>ainda</td>\n",
       "      <td>vida</td>\n",
       "    </tr>\n",
       "    <tr>\n",
       "      <th>10</th>\n",
       "      <td>feira</td>\n",
       "      <td>vai</td>\n",
       "    </tr>\n",
       "  </tbody>\n",
       "</table>\n",
       "</div>"
      ],
      "text/plain": [
       "   Dice before Term A Time Dice after Term A Time\n",
       "1                 ministro                  sobre\n",
       "2                  público                   sido\n",
       "3                  federal                governo\n",
       "4                      fim                  disse\n",
       "5                     sido                  desde\n",
       "6                  justiça                 contra\n",
       "7                bolsonaro                  vélez\n",
       "8                 tribunal                    vou\n",
       "9                    ainda                   vida\n",
       "10                   feira                    vai"
      ]
     },
     "execution_count": 81,
     "metadata": {},
     "output_type": "execute_result"
    }
   ],
   "source": [
    "table_dice = pd.DataFrame()\n",
    "table_dice['Dice before Term A Time'] = table_3['Dice']\n",
    "table_dice['Dice after Term A Time'] = table_top3['Dice']\n",
    "table_dice"
   ]
  },
  {
   "cell_type": "markdown",
   "metadata": {
    "colab_type": "text",
    "id": "QvqiSNkwK9cS"
   },
   "source": [
    "##### Top-10 palavras associadas aos Top-3 Documentos de 'Brasil'"
   ]
  },
  {
   "cell_type": "code",
   "execution_count": 82,
   "metadata": {
    "colab": {
     "base_uri": "https://localhost:8080/",
     "height": 359
    },
    "colab_type": "code",
    "id": "6_G33lxhLRuG",
    "outputId": "0f6550d3-def9-474d-d1fb-0effc66c9cba"
   },
   "outputs": [
    {
     "data": {
      "text/html": [
       "<div>\n",
       "<style scoped>\n",
       "    .dataframe tbody tr th:only-of-type {\n",
       "        vertical-align: middle;\n",
       "    }\n",
       "\n",
       "    .dataframe tbody tr th {\n",
       "        vertical-align: top;\n",
       "    }\n",
       "\n",
       "    .dataframe thead th {\n",
       "        text-align: right;\n",
       "    }\n",
       "</style>\n",
       "<table border=\"1\" class=\"dataframe\">\n",
       "  <thead>\n",
       "    <tr style=\"text-align: right;\">\n",
       "      <th></th>\n",
       "      <th>Dice before Term A Time</th>\n",
       "      <th>Dice after Term A Time</th>\n",
       "    </tr>\n",
       "  </thead>\n",
       "  <tbody>\n",
       "    <tr>\n",
       "      <th>1</th>\n",
       "      <td>estados</td>\n",
       "      <td>segundo</td>\n",
       "    </tr>\n",
       "    <tr>\n",
       "      <th>2</th>\n",
       "      <td>país</td>\n",
       "      <td>país</td>\n",
       "    </tr>\n",
       "    <tr>\n",
       "      <th>3</th>\n",
       "      <td>governo</td>\n",
       "      <td>econ</td>\n",
       "    </tr>\n",
       "    <tr>\n",
       "      <th>4</th>\n",
       "      <td>presidente</td>\n",
       "      <td>votado</td>\n",
       "    </tr>\n",
       "    <tr>\n",
       "      <th>5</th>\n",
       "      <td>outros</td>\n",
       "      <td>vez</td>\n",
       "    </tr>\n",
       "    <tr>\n",
       "      <th>6</th>\n",
       "      <td>parte</td>\n",
       "      <td>vai</td>\n",
       "    </tr>\n",
       "    <tr>\n",
       "      <th>7</th>\n",
       "      <td>ser</td>\n",
       "      <td>unidos</td>\n",
       "    </tr>\n",
       "    <tr>\n",
       "      <th>8</th>\n",
       "      <td>sobre</td>\n",
       "      <td>têm</td>\n",
       "    </tr>\n",
       "    <tr>\n",
       "      <th>9</th>\n",
       "      <td>ainda</td>\n",
       "      <td>três</td>\n",
       "    </tr>\n",
       "    <tr>\n",
       "      <th>10</th>\n",
       "      <td>ter</td>\n",
       "      <td>trazer</td>\n",
       "    </tr>\n",
       "  </tbody>\n",
       "</table>\n",
       "</div>"
      ],
      "text/plain": [
       "   Dice before Term A Time Dice after Term A Time\n",
       "1                  estados                segundo\n",
       "2                     país                   país\n",
       "3                  governo                   econ\n",
       "4               presidente                 votado\n",
       "5                   outros                    vez\n",
       "6                    parte                    vai\n",
       "7                      ser                 unidos\n",
       "8                    sobre                    têm\n",
       "9                    ainda                   três\n",
       "10                     ter                 trazer"
      ]
     },
     "execution_count": 82,
     "metadata": {},
     "output_type": "execute_result"
    }
   ],
   "source": [
    "table_dice = pd.DataFrame()\n",
    "table_dice['Dice before Term A Time'] = table_4['Dice']\n",
    "table_dice['Dice after Term A Time'] = table_top4['Dice']\n",
    "table_dice"
   ]
  },
  {
   "cell_type": "markdown",
   "metadata": {
    "colab_type": "text",
    "id": "6iUkLWk7K9um"
   },
   "source": [
    "##### Top-10 palavras associadas aos Top-3 Documentos de 'Economia'"
   ]
  },
  {
   "cell_type": "code",
   "execution_count": 83,
   "metadata": {
    "colab": {
     "base_uri": "https://localhost:8080/",
     "height": 359
    },
    "colab_type": "code",
    "id": "j9ll913XLSuR",
    "outputId": "ec289a16-c02a-44ff-cae1-d3347dcd9afe"
   },
   "outputs": [
    {
     "data": {
      "text/html": [
       "<div>\n",
       "<style scoped>\n",
       "    .dataframe tbody tr th:only-of-type {\n",
       "        vertical-align: middle;\n",
       "    }\n",
       "\n",
       "    .dataframe tbody tr th {\n",
       "        vertical-align: top;\n",
       "    }\n",
       "\n",
       "    .dataframe thead th {\n",
       "        text-align: right;\n",
       "    }\n",
       "</style>\n",
       "<table border=\"1\" class=\"dataframe\">\n",
       "  <thead>\n",
       "    <tr style=\"text-align: right;\">\n",
       "      <th></th>\n",
       "      <th>Dice before Term A Time</th>\n",
       "      <th>Dice after Term A Time</th>\n",
       "    </tr>\n",
       "  </thead>\n",
       "  <tbody>\n",
       "    <tr>\n",
       "      <th>1</th>\n",
       "      <td>guedes</td>\n",
       "      <td>vai</td>\n",
       "    </tr>\n",
       "    <tr>\n",
       "      <th>2</th>\n",
       "      <td>ministro</td>\n",
       "      <td>ser</td>\n",
       "    </tr>\n",
       "    <tr>\n",
       "      <th>3</th>\n",
       "      <td>país</td>\n",
       "      <td>novo</td>\n",
       "    </tr>\n",
       "    <tr>\n",
       "      <th>4</th>\n",
       "      <td>bolsonaro</td>\n",
       "      <td>menos</td>\n",
       "    </tr>\n",
       "    <tr>\n",
       "      <th>5</th>\n",
       "      <td>presidente</td>\n",
       "      <td>investimentos</td>\n",
       "    </tr>\n",
       "    <tr>\n",
       "      <th>6</th>\n",
       "      <td>previdência</td>\n",
       "      <td>hora</td>\n",
       "    </tr>\n",
       "    <tr>\n",
       "      <th>7</th>\n",
       "      <td>críticas</td>\n",
       "      <td>chegou</td>\n",
       "    </tr>\n",
       "    <tr>\n",
       "      <th>8</th>\n",
       "      <td>reforma</td>\n",
       "      <td>brasil</td>\n",
       "    </tr>\n",
       "    <tr>\n",
       "      <th>9</th>\n",
       "      <td>vice</td>\n",
       "      <td>ainda</td>\n",
       "    </tr>\n",
       "    <tr>\n",
       "      <th>10</th>\n",
       "      <td>proposta</td>\n",
       "      <td>três</td>\n",
       "    </tr>\n",
       "  </tbody>\n",
       "</table>\n",
       "</div>"
      ],
      "text/plain": [
       "   Dice before Term A Time Dice after Term A Time\n",
       "1                   guedes                    vai\n",
       "2                 ministro                    ser\n",
       "3                     país                   novo\n",
       "4                bolsonaro                  menos\n",
       "5               presidente          investimentos\n",
       "6              previdência                   hora\n",
       "7                 críticas                 chegou\n",
       "8                  reforma                 brasil\n",
       "9                     vice                  ainda\n",
       "10                proposta                   três"
      ]
     },
     "execution_count": 83,
     "metadata": {},
     "output_type": "execute_result"
    }
   ],
   "source": [
    "table_dice = pd.DataFrame()\n",
    "table_dice['Dice before Term A Time'] = table_5['Dice']\n",
    "table_dice['Dice after Term A Time'] = table_top5['Dice']\n",
    "table_dice"
   ]
  },
  {
   "cell_type": "markdown",
   "metadata": {
    "colab_type": "text",
    "id": "1Q1iuQEHCUD5"
   },
   "source": [
    "#### Top-5 Documentos\n",
    "\n",
    "Expansão de consulta para os top-5 documentos das consultas selecionadas inicialmente."
   ]
  },
  {
   "cell_type": "code",
   "execution_count": 84,
   "metadata": {
    "colab": {},
    "colab_type": "code",
    "id": "xHGSwXFCCXc4"
   },
   "outputs": [],
   "source": [
    "k = 5\n",
    "ranking_docs1 = top_docs(queries[0], k)\n",
    "ranking_docs2 = top_docs(queries[1], k)\n",
    "ranking_docs3 = top_docs(queries[2], k)\n",
    "ranking_docs4 = top_docs(queries[3], k)\n",
    "ranking_docs5 = top_docs(queries[4], k)"
   ]
  },
  {
   "cell_type": "code",
   "execution_count": 85,
   "metadata": {
    "colab": {},
    "colab_type": "code",
    "id": "a9gGhJ2bIQRs"
   },
   "outputs": [],
   "source": [
    "table_top1 = create_metrics_table(queries[0], ranking_docs1, k)\n",
    "table_top2 = create_metrics_table(queries[1], ranking_docs2, k)\n",
    "table_top3 = create_metrics_table(queries[2], ranking_docs3, k)\n",
    "table_top4 = create_metrics_table(queries[3], ranking_docs4, k)\n",
    "table_top5 = create_metrics_table(queries[4], ranking_docs5, k)"
   ]
  },
  {
   "cell_type": "markdown",
   "metadata": {
    "colab_type": "text",
    "id": "rZ9jGjGZNNSQ"
   },
   "source": [
    "##### Top-10 palavras associadas aos Top-5 Documentos de 'Bolsonaro'"
   ]
  },
  {
   "cell_type": "code",
   "execution_count": 86,
   "metadata": {
    "colab": {
     "base_uri": "https://localhost:8080/",
     "height": 359
    },
    "colab_type": "code",
    "id": "U215V1f7NWQD",
    "outputId": "1aeac202-5054-439a-b6b7-67f9847cf5be"
   },
   "outputs": [
    {
     "data": {
      "text/html": [
       "<div>\n",
       "<style scoped>\n",
       "    .dataframe tbody tr th:only-of-type {\n",
       "        vertical-align: middle;\n",
       "    }\n",
       "\n",
       "    .dataframe tbody tr th {\n",
       "        vertical-align: top;\n",
       "    }\n",
       "\n",
       "    .dataframe thead th {\n",
       "        text-align: right;\n",
       "    }\n",
       "</style>\n",
       "<table border=\"1\" class=\"dataframe\">\n",
       "  <thead>\n",
       "    <tr style=\"text-align: right;\">\n",
       "      <th></th>\n",
       "      <th>Dice before Term A Time</th>\n",
       "      <th>Dice after Term A Time</th>\n",
       "    </tr>\n",
       "  </thead>\n",
       "  <tbody>\n",
       "    <tr>\n",
       "      <th>1</th>\n",
       "      <td>jair</td>\n",
       "      <td>ter</td>\n",
       "    </tr>\n",
       "    <tr>\n",
       "      <th>2</th>\n",
       "      <td>presidente</td>\n",
       "      <td>sobre</td>\n",
       "    </tr>\n",
       "    <tr>\n",
       "      <th>3</th>\n",
       "      <td>governo</td>\n",
       "      <td>reforma</td>\n",
       "    </tr>\n",
       "    <tr>\n",
       "      <th>4</th>\n",
       "      <td>psl</td>\n",
       "      <td>questão</td>\n",
       "    </tr>\n",
       "    <tr>\n",
       "      <th>5</th>\n",
       "      <td>ministro</td>\n",
       "      <td>previdência</td>\n",
       "    </tr>\n",
       "    <tr>\n",
       "      <th>6</th>\n",
       "      <td>disse</td>\n",
       "      <td>presidente</td>\n",
       "    </tr>\n",
       "    <tr>\n",
       "      <th>7</th>\n",
       "      <td>afirmou</td>\n",
       "      <td>paulo</td>\n",
       "    </tr>\n",
       "    <tr>\n",
       "      <th>8</th>\n",
       "      <td>congresso</td>\n",
       "      <td>partidos</td>\n",
       "    </tr>\n",
       "    <tr>\n",
       "      <th>9</th>\n",
       "      <td>câmara</td>\n",
       "      <td>ministro</td>\n",
       "    </tr>\n",
       "    <tr>\n",
       "      <th>10</th>\n",
       "      <td>sobre</td>\n",
       "      <td>militar</td>\n",
       "    </tr>\n",
       "  </tbody>\n",
       "</table>\n",
       "</div>"
      ],
      "text/plain": [
       "   Dice before Term A Time Dice after Term A Time\n",
       "1                     jair                    ter\n",
       "2               presidente                  sobre\n",
       "3                  governo                reforma\n",
       "4                      psl                questão\n",
       "5                 ministro            previdência\n",
       "6                    disse             presidente\n",
       "7                  afirmou                  paulo\n",
       "8                congresso               partidos\n",
       "9                   câmara               ministro\n",
       "10                   sobre                militar"
      ]
     },
     "execution_count": 86,
     "metadata": {},
     "output_type": "execute_result"
    }
   ],
   "source": [
    "table_dice = pd.DataFrame()\n",
    "table_dice['Dice before Term A Time'] = table_1['Dice']\n",
    "table_dice['Dice after Term A Time'] = table_top1['Dice']\n",
    "table_dice"
   ]
  },
  {
   "cell_type": "markdown",
   "metadata": {
    "colab_type": "text",
    "id": "SARrnvOqNO8A"
   },
   "source": [
    "##### Top-10 palavras associadas aos Top-5 Documentos de 'Educação'"
   ]
  },
  {
   "cell_type": "code",
   "execution_count": 87,
   "metadata": {
    "colab": {
     "base_uri": "https://localhost:8080/",
     "height": 359
    },
    "colab_type": "code",
    "id": "IGZ7eBkhNXOy",
    "outputId": "70d584ba-9bcd-4a7a-9f97-a0165b1455ae"
   },
   "outputs": [
    {
     "data": {
      "text/html": [
       "<div>\n",
       "<style scoped>\n",
       "    .dataframe tbody tr th:only-of-type {\n",
       "        vertical-align: middle;\n",
       "    }\n",
       "\n",
       "    .dataframe tbody tr th {\n",
       "        vertical-align: top;\n",
       "    }\n",
       "\n",
       "    .dataframe thead th {\n",
       "        text-align: right;\n",
       "    }\n",
       "</style>\n",
       "<table border=\"1\" class=\"dataframe\">\n",
       "  <thead>\n",
       "    <tr style=\"text-align: right;\">\n",
       "      <th></th>\n",
       "      <th>Dice before Term A Time</th>\n",
       "      <th>Dice after Term A Time</th>\n",
       "    </tr>\n",
       "  </thead>\n",
       "  <tbody>\n",
       "    <tr>\n",
       "      <th>1</th>\n",
       "      <td>mec</td>\n",
       "      <td>governo</td>\n",
       "    </tr>\n",
       "    <tr>\n",
       "      <th>2</th>\n",
       "      <td>vélez</td>\n",
       "      <td>vai</td>\n",
       "    </tr>\n",
       "    <tr>\n",
       "      <th>3</th>\n",
       "      <td>indicou</td>\n",
       "      <td>ser</td>\n",
       "    </tr>\n",
       "    <tr>\n",
       "      <th>4</th>\n",
       "      <td>ensino</td>\n",
       "      <td>sendo</td>\n",
       "    </tr>\n",
       "    <tr>\n",
       "      <th>5</th>\n",
       "      <td>reclamar</td>\n",
       "      <td>semana</td>\n",
       "    </tr>\n",
       "    <tr>\n",
       "      <th>6</th>\n",
       "      <td>criticado</td>\n",
       "      <td>secretaria</td>\n",
       "    </tr>\n",
       "    <tr>\n",
       "      <th>7</th>\n",
       "      <td>irá</td>\n",
       "      <td>presidente</td>\n",
       "    </tr>\n",
       "    <tr>\n",
       "      <th>8</th>\n",
       "      <td>ministério</td>\n",
       "      <td>pessoas</td>\n",
       "    </tr>\n",
       "    <tr>\n",
       "      <th>9</th>\n",
       "      <td>meses</td>\n",
       "      <td>parte</td>\n",
       "    </tr>\n",
       "    <tr>\n",
       "      <th>10</th>\n",
       "      <td>vou</td>\n",
       "      <td>nacional</td>\n",
       "    </tr>\n",
       "  </tbody>\n",
       "</table>\n",
       "</div>"
      ],
      "text/plain": [
       "   Dice before Term A Time Dice after Term A Time\n",
       "1                      mec                governo\n",
       "2                    vélez                    vai\n",
       "3                  indicou                    ser\n",
       "4                   ensino                  sendo\n",
       "5                 reclamar                 semana\n",
       "6                criticado             secretaria\n",
       "7                      irá             presidente\n",
       "8               ministério                pessoas\n",
       "9                    meses                  parte\n",
       "10                     vou               nacional"
      ]
     },
     "execution_count": 87,
     "metadata": {},
     "output_type": "execute_result"
    }
   ],
   "source": [
    "table_dice = pd.DataFrame()\n",
    "table_dice['Dice before Term A Time'] = table_2['Dice']\n",
    "table_dice['Dice after Term A Time'] = table_top2['Dice']\n",
    "table_dice"
   ]
  },
  {
   "cell_type": "markdown",
   "metadata": {
    "colab_type": "text",
    "id": "omjRFa-YNPqA"
   },
   "source": [
    "##### Top-10 palavras associadas aos Top-5 Documentos de 'Ministério'"
   ]
  },
  {
   "cell_type": "code",
   "execution_count": 88,
   "metadata": {
    "colab": {
     "base_uri": "https://localhost:8080/",
     "height": 359
    },
    "colab_type": "code",
    "id": "v1Te5jW5NYKU",
    "outputId": "7155ef7c-5402-452a-fa5a-e01607841c78"
   },
   "outputs": [
    {
     "data": {
      "text/html": [
       "<div>\n",
       "<style scoped>\n",
       "    .dataframe tbody tr th:only-of-type {\n",
       "        vertical-align: middle;\n",
       "    }\n",
       "\n",
       "    .dataframe tbody tr th {\n",
       "        vertical-align: top;\n",
       "    }\n",
       "\n",
       "    .dataframe thead th {\n",
       "        text-align: right;\n",
       "    }\n",
       "</style>\n",
       "<table border=\"1\" class=\"dataframe\">\n",
       "  <thead>\n",
       "    <tr style=\"text-align: right;\">\n",
       "      <th></th>\n",
       "      <th>Dice before Term A Time</th>\n",
       "      <th>Dice after Term A Time</th>\n",
       "    </tr>\n",
       "  </thead>\n",
       "  <tbody>\n",
       "    <tr>\n",
       "      <th>1</th>\n",
       "      <td>ministro</td>\n",
       "      <td>governo</td>\n",
       "    </tr>\n",
       "    <tr>\n",
       "      <th>2</th>\n",
       "      <td>público</td>\n",
       "      <td>sobre</td>\n",
       "    </tr>\n",
       "    <tr>\n",
       "      <th>3</th>\n",
       "      <td>federal</td>\n",
       "      <td>ministro</td>\n",
       "    </tr>\n",
       "    <tr>\n",
       "      <th>4</th>\n",
       "      <td>fim</td>\n",
       "      <td>desde</td>\n",
       "    </tr>\n",
       "    <tr>\n",
       "      <th>5</th>\n",
       "      <td>sido</td>\n",
       "      <td>contra</td>\n",
       "    </tr>\n",
       "    <tr>\n",
       "      <th>6</th>\n",
       "      <td>justiça</td>\n",
       "      <td>sido</td>\n",
       "    </tr>\n",
       "    <tr>\n",
       "      <th>7</th>\n",
       "      <td>bolsonaro</td>\n",
       "      <td>segurança</td>\n",
       "    </tr>\n",
       "    <tr>\n",
       "      <th>8</th>\n",
       "      <td>tribunal</td>\n",
       "      <td>segundo</td>\n",
       "    </tr>\n",
       "    <tr>\n",
       "      <th>9</th>\n",
       "      <td>ainda</td>\n",
       "      <td>responsável</td>\n",
       "    </tr>\n",
       "    <tr>\n",
       "      <th>10</th>\n",
       "      <td>feira</td>\n",
       "      <td>público</td>\n",
       "    </tr>\n",
       "  </tbody>\n",
       "</table>\n",
       "</div>"
      ],
      "text/plain": [
       "   Dice before Term A Time Dice after Term A Time\n",
       "1                 ministro                governo\n",
       "2                  público                  sobre\n",
       "3                  federal               ministro\n",
       "4                      fim                  desde\n",
       "5                     sido                 contra\n",
       "6                  justiça                   sido\n",
       "7                bolsonaro              segurança\n",
       "8                 tribunal                segundo\n",
       "9                    ainda            responsável\n",
       "10                   feira                público"
      ]
     },
     "execution_count": 88,
     "metadata": {},
     "output_type": "execute_result"
    }
   ],
   "source": [
    "table_dice = pd.DataFrame()\n",
    "table_dice['Dice before Term A Time'] = table_3['Dice']\n",
    "table_dice['Dice after Term A Time'] = table_top3['Dice']\n",
    "table_dice"
   ]
  },
  {
   "cell_type": "markdown",
   "metadata": {
    "colab_type": "text",
    "id": "WpghjeDzNP4Y"
   },
   "source": [
    "##### Top-10 palavras associadas aos Top-5 Documentos de 'Brasil'"
   ]
  },
  {
   "cell_type": "code",
   "execution_count": 89,
   "metadata": {
    "colab": {
     "base_uri": "https://localhost:8080/",
     "height": 359
    },
    "colab_type": "code",
    "id": "9mDvBdIhNZJV",
    "outputId": "0965966d-ccd9-4418-d6df-43d95652e280"
   },
   "outputs": [
    {
     "data": {
      "text/html": [
       "<div>\n",
       "<style scoped>\n",
       "    .dataframe tbody tr th:only-of-type {\n",
       "        vertical-align: middle;\n",
       "    }\n",
       "\n",
       "    .dataframe tbody tr th {\n",
       "        vertical-align: top;\n",
       "    }\n",
       "\n",
       "    .dataframe thead th {\n",
       "        text-align: right;\n",
       "    }\n",
       "</style>\n",
       "<table border=\"1\" class=\"dataframe\">\n",
       "  <thead>\n",
       "    <tr style=\"text-align: right;\">\n",
       "      <th></th>\n",
       "      <th>Dice before Term A Time</th>\n",
       "      <th>Dice after Term A Time</th>\n",
       "    </tr>\n",
       "  </thead>\n",
       "  <tbody>\n",
       "    <tr>\n",
       "      <th>1</th>\n",
       "      <td>estados</td>\n",
       "      <td>segundo</td>\n",
       "    </tr>\n",
       "    <tr>\n",
       "      <th>2</th>\n",
       "      <td>país</td>\n",
       "      <td>país</td>\n",
       "    </tr>\n",
       "    <tr>\n",
       "      <th>3</th>\n",
       "      <td>governo</td>\n",
       "      <td>vez</td>\n",
       "    </tr>\n",
       "    <tr>\n",
       "      <th>4</th>\n",
       "      <td>presidente</td>\n",
       "      <td>unidos</td>\n",
       "    </tr>\n",
       "    <tr>\n",
       "      <th>5</th>\n",
       "      <td>outros</td>\n",
       "      <td>três</td>\n",
       "    </tr>\n",
       "    <tr>\n",
       "      <th>6</th>\n",
       "      <td>parte</td>\n",
       "      <td>sobre</td>\n",
       "    </tr>\n",
       "    <tr>\n",
       "      <th>7</th>\n",
       "      <td>ser</td>\n",
       "      <td>presidente</td>\n",
       "    </tr>\n",
       "    <tr>\n",
       "      <th>8</th>\n",
       "      <td>sobre</td>\n",
       "      <td>nova</td>\n",
       "    </tr>\n",
       "    <tr>\n",
       "      <th>9</th>\n",
       "      <td>ainda</td>\n",
       "      <td>mundo</td>\n",
       "    </tr>\n",
       "    <tr>\n",
       "      <th>10</th>\n",
       "      <td>ter</td>\n",
       "      <td>maiores</td>\n",
       "    </tr>\n",
       "  </tbody>\n",
       "</table>\n",
       "</div>"
      ],
      "text/plain": [
       "   Dice before Term A Time Dice after Term A Time\n",
       "1                  estados                segundo\n",
       "2                     país                   país\n",
       "3                  governo                    vez\n",
       "4               presidente                 unidos\n",
       "5                   outros                   três\n",
       "6                    parte                  sobre\n",
       "7                      ser             presidente\n",
       "8                    sobre                   nova\n",
       "9                    ainda                  mundo\n",
       "10                     ter                maiores"
      ]
     },
     "execution_count": 89,
     "metadata": {},
     "output_type": "execute_result"
    }
   ],
   "source": [
    "table_dice = pd.DataFrame()\n",
    "table_dice['Dice before Term A Time'] = table_4['Dice']\n",
    "table_dice['Dice after Term A Time'] = table_top4['Dice']\n",
    "table_dice"
   ]
  },
  {
   "cell_type": "markdown",
   "metadata": {
    "colab_type": "text",
    "id": "3Ozfw9w8NQJI"
   },
   "source": [
    "##### Top-10 palavras associadas aos Top-5 Documentos de 'Economia'"
   ]
  },
  {
   "cell_type": "code",
   "execution_count": 90,
   "metadata": {
    "colab": {
     "base_uri": "https://localhost:8080/",
     "height": 359
    },
    "colab_type": "code",
    "id": "gcO1mkqINQJJ",
    "outputId": "f14504b4-67a4-4bb8-a8ab-8b443302bb1d"
   },
   "outputs": [
    {
     "data": {
      "text/html": [
       "<div>\n",
       "<style scoped>\n",
       "    .dataframe tbody tr th:only-of-type {\n",
       "        vertical-align: middle;\n",
       "    }\n",
       "\n",
       "    .dataframe tbody tr th {\n",
       "        vertical-align: top;\n",
       "    }\n",
       "\n",
       "    .dataframe thead th {\n",
       "        text-align: right;\n",
       "    }\n",
       "</style>\n",
       "<table border=\"1\" class=\"dataframe\">\n",
       "  <thead>\n",
       "    <tr style=\"text-align: right;\">\n",
       "      <th></th>\n",
       "      <th>Dice before Term A Time</th>\n",
       "      <th>Dice after Term A Time</th>\n",
       "    </tr>\n",
       "  </thead>\n",
       "  <tbody>\n",
       "    <tr>\n",
       "      <th>1</th>\n",
       "      <td>guedes</td>\n",
       "      <td>brasil</td>\n",
       "    </tr>\n",
       "    <tr>\n",
       "      <th>2</th>\n",
       "      <td>ministro</td>\n",
       "      <td>segundo</td>\n",
       "    </tr>\n",
       "    <tr>\n",
       "      <th>3</th>\n",
       "      <td>país</td>\n",
       "      <td>primeiro</td>\n",
       "    </tr>\n",
       "    <tr>\n",
       "      <th>4</th>\n",
       "      <td>bolsonaro</td>\n",
       "      <td>outros</td>\n",
       "    </tr>\n",
       "    <tr>\n",
       "      <th>5</th>\n",
       "      <td>presidente</td>\n",
       "      <td>ainda</td>\n",
       "    </tr>\n",
       "    <tr>\n",
       "      <th>6</th>\n",
       "      <td>previdência</td>\n",
       "      <td>vai</td>\n",
       "    </tr>\n",
       "    <tr>\n",
       "      <th>7</th>\n",
       "      <td>críticas</td>\n",
       "      <td>três</td>\n",
       "    </tr>\n",
       "    <tr>\n",
       "      <th>8</th>\n",
       "      <td>reforma</td>\n",
       "      <td>tempo</td>\n",
       "    </tr>\n",
       "    <tr>\n",
       "      <th>9</th>\n",
       "      <td>vice</td>\n",
       "      <td>sul</td>\n",
       "    </tr>\n",
       "    <tr>\n",
       "      <th>10</th>\n",
       "      <td>proposta</td>\n",
       "      <td>sobre</td>\n",
       "    </tr>\n",
       "  </tbody>\n",
       "</table>\n",
       "</div>"
      ],
      "text/plain": [
       "   Dice before Term A Time Dice after Term A Time\n",
       "1                   guedes                 brasil\n",
       "2                 ministro                segundo\n",
       "3                     país               primeiro\n",
       "4                bolsonaro                 outros\n",
       "5               presidente                  ainda\n",
       "6              previdência                    vai\n",
       "7                 críticas                   três\n",
       "8                  reforma                  tempo\n",
       "9                     vice                    sul\n",
       "10                proposta                  sobre"
      ]
     },
     "execution_count": 90,
     "metadata": {},
     "output_type": "execute_result"
    }
   ],
   "source": [
    "table_dice = pd.DataFrame()\n",
    "table_dice['Dice before Term A Time'] = table_5['Dice']\n",
    "table_dice['Dice after Term A Time'] = table_top5['Dice']\n",
    "table_dice"
   ]
  },
  {
   "cell_type": "markdown",
   "metadata": {
    "colab_type": "text",
    "id": "9myz6DhDN5dX"
   },
   "source": [
    "#### Top-10 Documentos\n",
    "\n",
    "Expansão de consulta para os top-10 documentos das consultas selecionadas inicialmente."
   ]
  },
  {
   "cell_type": "code",
   "execution_count": 91,
   "metadata": {
    "colab": {},
    "colab_type": "code",
    "id": "cFZ1i0IiN5dZ"
   },
   "outputs": [],
   "source": [
    "k = 10\n",
    "ranking_docs1 = top_docs(queries[0], k)\n",
    "ranking_docs2 = top_docs(queries[1], k)\n",
    "ranking_docs3 = top_docs(queries[2], k)\n",
    "ranking_docs4 = top_docs(queries[3], k)\n",
    "ranking_docs5 = top_docs(queries[4], k)"
   ]
  },
  {
   "cell_type": "code",
   "execution_count": 92,
   "metadata": {
    "colab": {},
    "colab_type": "code",
    "id": "KiUO7wGhN5df"
   },
   "outputs": [],
   "source": [
    "table_top1 = create_metrics_table(queries[0], ranking_docs1, k)\n",
    "table_top2 = create_metrics_table(queries[1], ranking_docs2, k)\n",
    "table_top3 = create_metrics_table(queries[2], ranking_docs3, k)\n",
    "table_top4 = create_metrics_table(queries[3], ranking_docs4, k)\n",
    "table_top5 = create_metrics_table(queries[4], ranking_docs5, k)"
   ]
  },
  {
   "cell_type": "markdown",
   "metadata": {
    "colab_type": "text",
    "id": "NmeQfVhPN5di"
   },
   "source": [
    "##### Top-10 palavras associadas aos Top-10 Documentos de 'Bolsonaro'"
   ]
  },
  {
   "cell_type": "code",
   "execution_count": 93,
   "metadata": {
    "colab": {
     "base_uri": "https://localhost:8080/",
     "height": 359
    },
    "colab_type": "code",
    "id": "uwi6gXuIN5dk",
    "outputId": "5200a081-3d54-4ee4-8d39-5d0a931d1945"
   },
   "outputs": [
    {
     "data": {
      "text/html": [
       "<div>\n",
       "<style scoped>\n",
       "    .dataframe tbody tr th:only-of-type {\n",
       "        vertical-align: middle;\n",
       "    }\n",
       "\n",
       "    .dataframe tbody tr th {\n",
       "        vertical-align: top;\n",
       "    }\n",
       "\n",
       "    .dataframe thead th {\n",
       "        text-align: right;\n",
       "    }\n",
       "</style>\n",
       "<table border=\"1\" class=\"dataframe\">\n",
       "  <thead>\n",
       "    <tr style=\"text-align: right;\">\n",
       "      <th></th>\n",
       "      <th>Dice before Term A Time</th>\n",
       "      <th>Dice after Term A Time</th>\n",
       "    </tr>\n",
       "  </thead>\n",
       "  <tbody>\n",
       "    <tr>\n",
       "      <th>1</th>\n",
       "      <td>jair</td>\n",
       "      <td>presidente</td>\n",
       "    </tr>\n",
       "    <tr>\n",
       "      <th>2</th>\n",
       "      <td>presidente</td>\n",
       "      <td>governo</td>\n",
       "    </tr>\n",
       "    <tr>\n",
       "      <th>3</th>\n",
       "      <td>governo</td>\n",
       "      <td>brasil</td>\n",
       "    </tr>\n",
       "    <tr>\n",
       "      <th>4</th>\n",
       "      <td>psl</td>\n",
       "      <td>sobre</td>\n",
       "    </tr>\n",
       "    <tr>\n",
       "      <th>5</th>\n",
       "      <td>ministro</td>\n",
       "      <td>ainda</td>\n",
       "    </tr>\n",
       "    <tr>\n",
       "      <th>6</th>\n",
       "      <td>disse</td>\n",
       "      <td>ter</td>\n",
       "    </tr>\n",
       "    <tr>\n",
       "      <th>7</th>\n",
       "      <td>afirmou</td>\n",
       "      <td>ser</td>\n",
       "    </tr>\n",
       "    <tr>\n",
       "      <th>8</th>\n",
       "      <td>congresso</td>\n",
       "      <td>segundo</td>\n",
       "    </tr>\n",
       "    <tr>\n",
       "      <th>9</th>\n",
       "      <td>câmara</td>\n",
       "      <td>reforma</td>\n",
       "    </tr>\n",
       "    <tr>\n",
       "      <th>10</th>\n",
       "      <td>sobre</td>\n",
       "      <td>questão</td>\n",
       "    </tr>\n",
       "  </tbody>\n",
       "</table>\n",
       "</div>"
      ],
      "text/plain": [
       "   Dice before Term A Time Dice after Term A Time\n",
       "1                     jair             presidente\n",
       "2               presidente                governo\n",
       "3                  governo                 brasil\n",
       "4                      psl                  sobre\n",
       "5                 ministro                  ainda\n",
       "6                    disse                    ter\n",
       "7                  afirmou                    ser\n",
       "8                congresso                segundo\n",
       "9                   câmara                reforma\n",
       "10                   sobre                questão"
      ]
     },
     "execution_count": 93,
     "metadata": {},
     "output_type": "execute_result"
    }
   ],
   "source": [
    "table_dice = pd.DataFrame()\n",
    "table_dice['Dice before Term A Time'] = table_1['Dice']\n",
    "table_dice['Dice after Term A Time'] = table_top1['Dice']\n",
    "table_dice"
   ]
  },
  {
   "cell_type": "markdown",
   "metadata": {
    "colab_type": "text",
    "id": "XPbP8TBSN5dp"
   },
   "source": [
    "##### Top-10 palavras associadas aos Top-10 Documentos de 'Educação'"
   ]
  },
  {
   "cell_type": "code",
   "execution_count": 94,
   "metadata": {
    "colab": {
     "base_uri": "https://localhost:8080/",
     "height": 359
    },
    "colab_type": "code",
    "id": "3vgYR--MN5dq",
    "outputId": "ae7a51af-f44a-4148-9110-75d42039dd2c"
   },
   "outputs": [
    {
     "data": {
      "text/html": [
       "<div>\n",
       "<style scoped>\n",
       "    .dataframe tbody tr th:only-of-type {\n",
       "        vertical-align: middle;\n",
       "    }\n",
       "\n",
       "    .dataframe tbody tr th {\n",
       "        vertical-align: top;\n",
       "    }\n",
       "\n",
       "    .dataframe thead th {\n",
       "        text-align: right;\n",
       "    }\n",
       "</style>\n",
       "<table border=\"1\" class=\"dataframe\">\n",
       "  <thead>\n",
       "    <tr style=\"text-align: right;\">\n",
       "      <th></th>\n",
       "      <th>Dice before Term A Time</th>\n",
       "      <th>Dice after Term A Time</th>\n",
       "    </tr>\n",
       "  </thead>\n",
       "  <tbody>\n",
       "    <tr>\n",
       "      <th>1</th>\n",
       "      <td>mec</td>\n",
       "      <td>governo</td>\n",
       "    </tr>\n",
       "    <tr>\n",
       "      <th>2</th>\n",
       "      <td>vélez</td>\n",
       "      <td>presidente</td>\n",
       "    </tr>\n",
       "    <tr>\n",
       "      <th>3</th>\n",
       "      <td>indicou</td>\n",
       "      <td>ainda</td>\n",
       "    </tr>\n",
       "    <tr>\n",
       "      <th>4</th>\n",
       "      <td>ensino</td>\n",
       "      <td>vai</td>\n",
       "    </tr>\n",
       "    <tr>\n",
       "      <th>5</th>\n",
       "      <td>reclamar</td>\n",
       "      <td>sido</td>\n",
       "    </tr>\n",
       "    <tr>\n",
       "      <th>6</th>\n",
       "      <td>criticado</td>\n",
       "      <td>ser</td>\n",
       "    </tr>\n",
       "    <tr>\n",
       "      <th>7</th>\n",
       "      <td>irá</td>\n",
       "      <td>pessoas</td>\n",
       "    </tr>\n",
       "    <tr>\n",
       "      <th>8</th>\n",
       "      <td>ministério</td>\n",
       "      <td>anos</td>\n",
       "    </tr>\n",
       "    <tr>\n",
       "      <th>9</th>\n",
       "      <td>meses</td>\n",
       "      <td>área</td>\n",
       "    </tr>\n",
       "    <tr>\n",
       "      <th>10</th>\n",
       "      <td>vou</td>\n",
       "      <td>sobre</td>\n",
       "    </tr>\n",
       "  </tbody>\n",
       "</table>\n",
       "</div>"
      ],
      "text/plain": [
       "   Dice before Term A Time Dice after Term A Time\n",
       "1                      mec                governo\n",
       "2                    vélez             presidente\n",
       "3                  indicou                  ainda\n",
       "4                   ensino                    vai\n",
       "5                 reclamar                   sido\n",
       "6                criticado                    ser\n",
       "7                      irá                pessoas\n",
       "8               ministério                   anos\n",
       "9                    meses                   área\n",
       "10                     vou                  sobre"
      ]
     },
     "execution_count": 94,
     "metadata": {},
     "output_type": "execute_result"
    }
   ],
   "source": [
    "table_dice = pd.DataFrame()\n",
    "table_dice['Dice before Term A Time'] = table_2['Dice']\n",
    "table_dice['Dice after Term A Time'] = table_top2['Dice']\n",
    "table_dice"
   ]
  },
  {
   "cell_type": "markdown",
   "metadata": {
    "colab_type": "text",
    "id": "tfMNNPQXN5dx"
   },
   "source": [
    "##### Top-10 palavras associadas aos Top-10 Documentos de 'Ministério'"
   ]
  },
  {
   "cell_type": "code",
   "execution_count": 95,
   "metadata": {
    "colab": {
     "base_uri": "https://localhost:8080/",
     "height": 359
    },
    "colab_type": "code",
    "id": "rkIJpsq9N5dy",
    "outputId": "5a277f5f-a8b8-4575-e430-94839a0d5177"
   },
   "outputs": [
    {
     "data": {
      "text/html": [
       "<div>\n",
       "<style scoped>\n",
       "    .dataframe tbody tr th:only-of-type {\n",
       "        vertical-align: middle;\n",
       "    }\n",
       "\n",
       "    .dataframe tbody tr th {\n",
       "        vertical-align: top;\n",
       "    }\n",
       "\n",
       "    .dataframe thead th {\n",
       "        text-align: right;\n",
       "    }\n",
       "</style>\n",
       "<table border=\"1\" class=\"dataframe\">\n",
       "  <thead>\n",
       "    <tr style=\"text-align: right;\">\n",
       "      <th></th>\n",
       "      <th>Dice before Term A Time</th>\n",
       "      <th>Dice after Term A Time</th>\n",
       "    </tr>\n",
       "  </thead>\n",
       "  <tbody>\n",
       "    <tr>\n",
       "      <th>1</th>\n",
       "      <td>ministro</td>\n",
       "      <td>governo</td>\n",
       "    </tr>\n",
       "    <tr>\n",
       "      <th>2</th>\n",
       "      <td>público</td>\n",
       "      <td>desde</td>\n",
       "    </tr>\n",
       "    <tr>\n",
       "      <th>3</th>\n",
       "      <td>federal</td>\n",
       "      <td>sobre</td>\n",
       "    </tr>\n",
       "    <tr>\n",
       "      <th>4</th>\n",
       "      <td>fim</td>\n",
       "      <td>sido</td>\n",
       "    </tr>\n",
       "    <tr>\n",
       "      <th>5</th>\n",
       "      <td>sido</td>\n",
       "      <td>ser</td>\n",
       "    </tr>\n",
       "    <tr>\n",
       "      <th>6</th>\n",
       "      <td>justiça</td>\n",
       "      <td>público</td>\n",
       "    </tr>\n",
       "    <tr>\n",
       "      <th>7</th>\n",
       "      <td>bolsonaro</td>\n",
       "      <td>ministro</td>\n",
       "    </tr>\n",
       "    <tr>\n",
       "      <th>8</th>\n",
       "      <td>tribunal</td>\n",
       "      <td>dois</td>\n",
       "    </tr>\n",
       "    <tr>\n",
       "      <th>9</th>\n",
       "      <td>ainda</td>\n",
       "      <td>contra</td>\n",
       "    </tr>\n",
       "    <tr>\n",
       "      <th>10</th>\n",
       "      <td>feira</td>\n",
       "      <td>brasileiro</td>\n",
       "    </tr>\n",
       "  </tbody>\n",
       "</table>\n",
       "</div>"
      ],
      "text/plain": [
       "   Dice before Term A Time Dice after Term A Time\n",
       "1                 ministro                governo\n",
       "2                  público                  desde\n",
       "3                  federal                  sobre\n",
       "4                      fim                   sido\n",
       "5                     sido                    ser\n",
       "6                  justiça                público\n",
       "7                bolsonaro               ministro\n",
       "8                 tribunal                   dois\n",
       "9                    ainda                 contra\n",
       "10                   feira             brasileiro"
      ]
     },
     "execution_count": 95,
     "metadata": {},
     "output_type": "execute_result"
    }
   ],
   "source": [
    "table_dice = pd.DataFrame()\n",
    "table_dice['Dice before Term A Time'] = table_3['Dice']\n",
    "table_dice['Dice after Term A Time'] = table_top3['Dice']\n",
    "table_dice"
   ]
  },
  {
   "cell_type": "markdown",
   "metadata": {
    "colab_type": "text",
    "id": "KBNUpUilN5d5"
   },
   "source": [
    "##### Top-10 palavras associadas aos Top-10 Documentos de 'Brasil'"
   ]
  },
  {
   "cell_type": "code",
   "execution_count": 96,
   "metadata": {
    "colab": {
     "base_uri": "https://localhost:8080/",
     "height": 359
    },
    "colab_type": "code",
    "id": "YRjs8YHiN5d6",
    "outputId": "88114cb0-2d7c-4862-c8b3-e4f966532078"
   },
   "outputs": [
    {
     "data": {
      "text/html": [
       "<div>\n",
       "<style scoped>\n",
       "    .dataframe tbody tr th:only-of-type {\n",
       "        vertical-align: middle;\n",
       "    }\n",
       "\n",
       "    .dataframe tbody tr th {\n",
       "        vertical-align: top;\n",
       "    }\n",
       "\n",
       "    .dataframe thead th {\n",
       "        text-align: right;\n",
       "    }\n",
       "</style>\n",
       "<table border=\"1\" class=\"dataframe\">\n",
       "  <thead>\n",
       "    <tr style=\"text-align: right;\">\n",
       "      <th></th>\n",
       "      <th>Dice before Term A Time</th>\n",
       "      <th>Dice after Term A Time</th>\n",
       "    </tr>\n",
       "  </thead>\n",
       "  <tbody>\n",
       "    <tr>\n",
       "      <th>1</th>\n",
       "      <td>estados</td>\n",
       "      <td>país</td>\n",
       "    </tr>\n",
       "    <tr>\n",
       "      <th>2</th>\n",
       "      <td>país</td>\n",
       "      <td>sobre</td>\n",
       "    </tr>\n",
       "    <tr>\n",
       "      <th>3</th>\n",
       "      <td>governo</td>\n",
       "      <td>segundo</td>\n",
       "    </tr>\n",
       "    <tr>\n",
       "      <th>4</th>\n",
       "      <td>presidente</td>\n",
       "      <td>presidente</td>\n",
       "    </tr>\n",
       "    <tr>\n",
       "      <th>5</th>\n",
       "      <td>outros</td>\n",
       "      <td>vai</td>\n",
       "    </tr>\n",
       "    <tr>\n",
       "      <th>6</th>\n",
       "      <td>parte</td>\n",
       "      <td>governo</td>\n",
       "    </tr>\n",
       "    <tr>\n",
       "      <th>7</th>\n",
       "      <td>ser</td>\n",
       "      <td>disse</td>\n",
       "    </tr>\n",
       "    <tr>\n",
       "      <th>8</th>\n",
       "      <td>sobre</td>\n",
       "      <td>ainda</td>\n",
       "    </tr>\n",
       "    <tr>\n",
       "      <th>9</th>\n",
       "      <td>ainda</td>\n",
       "      <td>unidos</td>\n",
       "    </tr>\n",
       "    <tr>\n",
       "      <th>10</th>\n",
       "      <td>ter</td>\n",
       "      <td>três</td>\n",
       "    </tr>\n",
       "  </tbody>\n",
       "</table>\n",
       "</div>"
      ],
      "text/plain": [
       "   Dice before Term A Time Dice after Term A Time\n",
       "1                  estados                   país\n",
       "2                     país                  sobre\n",
       "3                  governo                segundo\n",
       "4               presidente             presidente\n",
       "5                   outros                    vai\n",
       "6                    parte                governo\n",
       "7                      ser                  disse\n",
       "8                    sobre                  ainda\n",
       "9                    ainda                 unidos\n",
       "10                     ter                   três"
      ]
     },
     "execution_count": 96,
     "metadata": {},
     "output_type": "execute_result"
    }
   ],
   "source": [
    "table_dice = pd.DataFrame()\n",
    "table_dice['Dice before Term A Time'] = table_4['Dice']\n",
    "table_dice['Dice after Term A Time'] = table_top4['Dice']\n",
    "table_dice"
   ]
  },
  {
   "cell_type": "markdown",
   "metadata": {
    "colab_type": "text",
    "id": "wznLUvOaN5eB"
   },
   "source": [
    "##### Top-10 palavras associadas aos Top-10 Documentos de 'Economia'"
   ]
  },
  {
   "cell_type": "code",
   "execution_count": 97,
   "metadata": {
    "colab": {
     "base_uri": "https://localhost:8080/",
     "height": 359
    },
    "colab_type": "code",
    "id": "oKhaeVkjN5eC",
    "outputId": "caa5dea2-16ca-4e79-8009-31d11ced9d16"
   },
   "outputs": [
    {
     "data": {
      "text/html": [
       "<div>\n",
       "<style scoped>\n",
       "    .dataframe tbody tr th:only-of-type {\n",
       "        vertical-align: middle;\n",
       "    }\n",
       "\n",
       "    .dataframe tbody tr th {\n",
       "        vertical-align: top;\n",
       "    }\n",
       "\n",
       "    .dataframe thead th {\n",
       "        text-align: right;\n",
       "    }\n",
       "</style>\n",
       "<table border=\"1\" class=\"dataframe\">\n",
       "  <thead>\n",
       "    <tr style=\"text-align: right;\">\n",
       "      <th></th>\n",
       "      <th>Dice before Term A Time</th>\n",
       "      <th>Dice after Term A Time</th>\n",
       "    </tr>\n",
       "  </thead>\n",
       "  <tbody>\n",
       "    <tr>\n",
       "      <th>1</th>\n",
       "      <td>guedes</td>\n",
       "      <td>ainda</td>\n",
       "    </tr>\n",
       "    <tr>\n",
       "      <th>2</th>\n",
       "      <td>ministro</td>\n",
       "      <td>presidente</td>\n",
       "    </tr>\n",
       "    <tr>\n",
       "      <th>3</th>\n",
       "      <td>país</td>\n",
       "      <td>brasil</td>\n",
       "    </tr>\n",
       "    <tr>\n",
       "      <th>4</th>\n",
       "      <td>bolsonaro</td>\n",
       "      <td>sobre</td>\n",
       "    </tr>\n",
       "    <tr>\n",
       "      <th>5</th>\n",
       "      <td>presidente</td>\n",
       "      <td>ser</td>\n",
       "    </tr>\n",
       "    <tr>\n",
       "      <th>6</th>\n",
       "      <td>previdência</td>\n",
       "      <td>segundo</td>\n",
       "    </tr>\n",
       "    <tr>\n",
       "      <th>7</th>\n",
       "      <td>críticas</td>\n",
       "      <td>parte</td>\n",
       "    </tr>\n",
       "    <tr>\n",
       "      <th>8</th>\n",
       "      <td>reforma</td>\n",
       "      <td>outros</td>\n",
       "    </tr>\n",
       "    <tr>\n",
       "      <th>9</th>\n",
       "      <td>vice</td>\n",
       "      <td>ministério</td>\n",
       "    </tr>\n",
       "    <tr>\n",
       "      <th>10</th>\n",
       "      <td>proposta</td>\n",
       "      <td>menos</td>\n",
       "    </tr>\n",
       "  </tbody>\n",
       "</table>\n",
       "</div>"
      ],
      "text/plain": [
       "   Dice before Term A Time Dice after Term A Time\n",
       "1                   guedes                  ainda\n",
       "2                 ministro             presidente\n",
       "3                     país                 brasil\n",
       "4                bolsonaro                  sobre\n",
       "5               presidente                    ser\n",
       "6              previdência                segundo\n",
       "7                 críticas                  parte\n",
       "8                  reforma                 outros\n",
       "9                     vice             ministério\n",
       "10                proposta                  menos"
      ]
     },
     "execution_count": 97,
     "metadata": {},
     "output_type": "execute_result"
    }
   ],
   "source": [
    "table_dice = pd.DataFrame()\n",
    "table_dice['Dice before Term A Time'] = table_5['Dice']\n",
    "table_dice['Dice after Term A Time'] = table_top5['Dice']\n",
    "table_dice"
   ]
  },
  {
   "cell_type": "markdown",
   "metadata": {
    "colab_type": "text",
    "id": "iY40yOSCu_Z5"
   },
   "source": [
    "#### Resultado:\n",
    "\n",
    "Aumentando o k os resultados possuem maior qualidade , isso deve se ao fato de que termos um maior numero de dados a respeito da ligação de palavras ,  comparando o top 3 e o top 10 , vemos que a diferença de qualidade é gritante , porem com top-k docs para expansão , aumenta bastante a agilidade para computar palavras mais relacionadas a consulta.\n"
   ]
  }
 ],
 "metadata": {
  "colab": {
   "collapsed_sections": [
    "McpHTjVVB5xA",
    "09vbHGYoCGMd",
    "vFlUTQuPCL1A",
    "80B4zI8HCPOG"
   ],
   "include_colab_link": true,
   "name": "expansao_consulta",
   "provenance": [],
   "version": "0.3.2"
  },
  "kernelspec": {
   "display_name": "Python 3",
   "language": "python",
   "name": "python3"
  },
  "language_info": {
   "codemirror_mode": {
    "name": "ipython",
    "version": 3
   },
   "file_extension": ".py",
   "mimetype": "text/x-python",
   "name": "python",
   "nbconvert_exporter": "python",
   "pygments_lexer": "ipython3",
   "version": "3.7.1"
  }
 },
 "nbformat": 4,
 "nbformat_minor": 1
}
